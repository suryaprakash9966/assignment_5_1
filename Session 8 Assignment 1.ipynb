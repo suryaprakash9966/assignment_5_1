{
 "cells": [
  {
   "cell_type": "markdown",
   "metadata": {},
   "source": [
    "1) How-to-count-distance-to-the-previous-zero\n",
    "    For each value, count the difference of the distance from the previous zero (or the start\n",
    "    of the Series, whichever is closer) and if there are no previous zeros,print the position\n",
    "    Consider a DataFrame df where there is an integer column {'X':[7, 2, 0, 3, 4, 2, 5, 0, 3, 4]}\n",
    "    The values should therefore be [1, 2, 0, 1, 2, 3, 4, 0, 1, 2]. Make this a new column 'Y'.\n",
    "    import pandas as pd\n",
    "    df = pd.DataFrame({'X': [7, 2, 0, 3, 4, 2, 5, 0, 3, 4]})\n",
    "2) Create a DatetimeIndex that contains each business day of 2015 and use it to index a\n",
    "    Series of random numbers.\n",
    "3) Find the sum of the values in s for every Wednesday\n",
    "4) Average For each calendar month\n",
    "5) For each group of four consecutive calendar months in s, find the date on which the\n",
    "    highest value occurred."
   ]
  },
  {
   "cell_type": "code",
   "execution_count": 2,
   "metadata": {},
   "outputs": [],
   "source": [
    "import pandas as pd\n",
    "import numpy as np"
   ]
  },
  {
   "cell_type": "code",
   "execution_count": 6,
   "metadata": {},
   "outputs": [],
   "source": [
    "df = pd.DataFrame({'X': [7, 2, 0, 3, 4, 2, 5, 0, 3, 4]})"
   ]
  },
  {
   "cell_type": "code",
   "execution_count": 17,
   "metadata": {},
   "outputs": [],
   "source": [
    "x = (df['X'] != 0).cumsum()\n",
    "y = x != x.shift()\n",
    "df['Y'] = y.groupby((y != y.shift()).cumsum()).cumsum()"
   ]
  },
  {
   "cell_type": "code",
   "execution_count": 22,
   "metadata": {},
   "outputs": [],
   "source": [
    "x = (df['X'] != 0).cumsum()\n",
    "y = x != x.shift()\n",
    "df['Y'] = y.groupby((y != y.shift()).cumsum()).cumsum()"
   ]
  },
  {
   "cell_type": "code",
   "execution_count": 23,
   "metadata": {},
   "outputs": [
    {
     "data": {
      "text/html": [
       "<div>\n",
       "<style scoped>\n",
       "    .dataframe tbody tr th:only-of-type {\n",
       "        vertical-align: middle;\n",
       "    }\n",
       "\n",
       "    .dataframe tbody tr th {\n",
       "        vertical-align: top;\n",
       "    }\n",
       "\n",
       "    .dataframe thead th {\n",
       "        text-align: right;\n",
       "    }\n",
       "</style>\n",
       "<table border=\"1\" class=\"dataframe\">\n",
       "  <thead>\n",
       "    <tr style=\"text-align: right;\">\n",
       "      <th></th>\n",
       "      <th>X</th>\n",
       "      <th>Y</th>\n",
       "    </tr>\n",
       "  </thead>\n",
       "  <tbody>\n",
       "    <tr>\n",
       "      <th>0</th>\n",
       "      <td>7</td>\n",
       "      <td>1.0</td>\n",
       "    </tr>\n",
       "    <tr>\n",
       "      <th>1</th>\n",
       "      <td>2</td>\n",
       "      <td>2.0</td>\n",
       "    </tr>\n",
       "    <tr>\n",
       "      <th>2</th>\n",
       "      <td>0</td>\n",
       "      <td>0.0</td>\n",
       "    </tr>\n",
       "    <tr>\n",
       "      <th>3</th>\n",
       "      <td>3</td>\n",
       "      <td>1.0</td>\n",
       "    </tr>\n",
       "    <tr>\n",
       "      <th>4</th>\n",
       "      <td>4</td>\n",
       "      <td>2.0</td>\n",
       "    </tr>\n",
       "    <tr>\n",
       "      <th>5</th>\n",
       "      <td>2</td>\n",
       "      <td>3.0</td>\n",
       "    </tr>\n",
       "    <tr>\n",
       "      <th>6</th>\n",
       "      <td>5</td>\n",
       "      <td>4.0</td>\n",
       "    </tr>\n",
       "    <tr>\n",
       "      <th>7</th>\n",
       "      <td>0</td>\n",
       "      <td>0.0</td>\n",
       "    </tr>\n",
       "    <tr>\n",
       "      <th>8</th>\n",
       "      <td>3</td>\n",
       "      <td>1.0</td>\n",
       "    </tr>\n",
       "    <tr>\n",
       "      <th>9</th>\n",
       "      <td>4</td>\n",
       "      <td>2.0</td>\n",
       "    </tr>\n",
       "  </tbody>\n",
       "</table>\n",
       "</div>"
      ],
      "text/plain": [
       "   X    Y\n",
       "0  7  1.0\n",
       "1  2  2.0\n",
       "2  0  0.0\n",
       "3  3  1.0\n",
       "4  4  2.0\n",
       "5  2  3.0\n",
       "6  5  4.0\n",
       "7  0  0.0\n",
       "8  3  1.0\n",
       "9  4  2.0"
      ]
     },
     "execution_count": 23,
     "metadata": {},
     "output_type": "execute_result"
    }
   ],
   "source": [
    "df"
   ]
  },
  {
   "cell_type": "markdown",
   "metadata": {},
   "source": [
    "Create a DatetimeIndex that contains each business day of 2015 and use it to index a\n",
    "    Series of random numbers"
   ]
  },
  {
   "cell_type": "code",
   "execution_count": 32,
   "metadata": {},
   "outputs": [],
   "source": [
    "datetimeindex = pd.date_range(start='2015-01-01', end='2015-12-31')\n",
    "s = pd.Series(np.random.rand(len(datetimeindex)),index=datetimeindex)"
   ]
  },
  {
   "cell_type": "code",
   "execution_count": 33,
   "metadata": {},
   "outputs": [
    {
     "data": {
      "text/plain": [
       "2015-01-01    0.926964\n",
       "2015-01-02    0.383274\n",
       "2015-01-03    0.069554\n",
       "2015-01-04    0.110599\n",
       "2015-01-05    0.459986\n",
       "2015-01-06    0.621769\n",
       "2015-01-07    0.146667\n",
       "2015-01-08    0.895377\n",
       "2015-01-09    0.225631\n",
       "2015-01-10    0.961946\n",
       "2015-01-11    0.052307\n",
       "2015-01-12    0.448042\n",
       "2015-01-13    0.023784\n",
       "2015-01-14    0.410521\n",
       "2015-01-15    0.266414\n",
       "2015-01-16    0.039084\n",
       "2015-01-17    0.789762\n",
       "2015-01-18    0.433036\n",
       "2015-01-19    0.315552\n",
       "2015-01-20    0.140874\n",
       "2015-01-21    0.650616\n",
       "2015-01-22    0.341378\n",
       "2015-01-23    0.886486\n",
       "2015-01-24    0.665438\n",
       "2015-01-25    0.201280\n",
       "2015-01-26    0.709906\n",
       "2015-01-27    0.398883\n",
       "2015-01-28    0.927691\n",
       "2015-01-29    0.971067\n",
       "2015-01-30    0.307280\n",
       "                ...   \n",
       "2015-12-02    0.559491\n",
       "2015-12-03    0.040391\n",
       "2015-12-04    0.687447\n",
       "2015-12-05    0.363635\n",
       "2015-12-06    0.011687\n",
       "2015-12-07    0.129311\n",
       "2015-12-08    0.226988\n",
       "2015-12-09    0.932121\n",
       "2015-12-10    0.483676\n",
       "2015-12-11    0.263739\n",
       "2015-12-12    0.638040\n",
       "2015-12-13    0.020520\n",
       "2015-12-14    0.771052\n",
       "2015-12-15    0.706644\n",
       "2015-12-16    0.510349\n",
       "2015-12-17    0.664550\n",
       "2015-12-18    0.770608\n",
       "2015-12-19    0.730076\n",
       "2015-12-20    0.762269\n",
       "2015-12-21    0.748538\n",
       "2015-12-22    0.559106\n",
       "2015-12-23    0.346563\n",
       "2015-12-24    0.178406\n",
       "2015-12-25    0.918509\n",
       "2015-12-26    0.111831\n",
       "2015-12-27    0.745160\n",
       "2015-12-28    0.336900\n",
       "2015-12-29    0.777220\n",
       "2015-12-30    0.390640\n",
       "2015-12-31    0.736311\n",
       "Freq: D, Length: 365, dtype: float64"
      ]
     },
     "execution_count": 33,
     "metadata": {},
     "output_type": "execute_result"
    }
   ],
   "source": [
    "s"
   ]
  },
  {
   "cell_type": "markdown",
   "metadata": {},
   "source": [
    "3) Find the sum of the values in s for every Wednesday"
   ]
  },
  {
   "cell_type": "code",
   "execution_count": 47,
   "metadata": {},
   "outputs": [
    {
     "data": {
      "text/plain": [
       "25.528718918177344"
      ]
     },
     "execution_count": 47,
     "metadata": {},
     "output_type": "execute_result"
    }
   ],
   "source": [
    "s[datetimeindex.weekday_name == 'Wednesday'].sum()"
   ]
  },
  {
   "cell_type": "markdown",
   "metadata": {},
   "source": [
    "4) Average For each calendar month"
   ]
  },
  {
   "cell_type": "code",
   "execution_count": 67,
   "metadata": {},
   "outputs": [
    {
     "data": {
      "text/plain": [
       "2015-01-31    0.460212\n",
       "2015-02-28    0.453634\n",
       "2015-03-31    0.502368\n",
       "2015-04-30    0.561537\n",
       "2015-05-31    0.476239\n",
       "2015-06-30    0.494172\n",
       "2015-07-31    0.516532\n",
       "2015-08-31    0.538861\n",
       "2015-09-30    0.606235\n",
       "2015-10-31    0.522946\n",
       "2015-11-30    0.466431\n",
       "2015-12-31    0.510784\n",
       "Freq: M, dtype: float64"
      ]
     },
     "execution_count": 67,
     "metadata": {},
     "output_type": "execute_result"
    }
   ],
   "source": [
    "s.groupby(pd.Grouper(freq='M')).mean()"
   ]
  },
  {
   "cell_type": "markdown",
   "metadata": {},
   "source": [
    "For each group of four consecutive calendar months in s, find the date on which the\n",
    "    highest value occurred."
   ]
  },
  {
   "cell_type": "code",
   "execution_count": 66,
   "metadata": {},
   "outputs": [
    {
     "data": {
      "text/plain": [
       "2015-01-31    0.971067\n",
       "2015-05-31    0.977574\n",
       "2015-09-30    0.998938\n",
       "2016-01-31    0.998148\n",
       "dtype: float64"
      ]
     },
     "execution_count": 66,
     "metadata": {},
     "output_type": "execute_result"
    }
   ],
   "source": [
    "s.groupby(pd.Grouper(freq='4M')).max()"
   ]
  },
  {
   "cell_type": "code",
   "execution_count": null,
   "metadata": {},
   "outputs": [],
   "source": []
  }
 ],
 "metadata": {
  "kernelspec": {
   "display_name": "Python 3",
   "language": "python",
   "name": "python3"
  },
  "language_info": {
   "codemirror_mode": {
    "name": "ipython",
    "version": 3
   },
   "file_extension": ".py",
   "mimetype": "text/x-python",
   "name": "python",
   "nbconvert_exporter": "python",
   "pygments_lexer": "ipython3",
   "version": "3.7.0"
  }
 },
 "nbformat": 4,
 "nbformat_minor": 2
}
